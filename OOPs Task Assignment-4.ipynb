{
 "cells": [
  {
   "cell_type": "markdown",
   "id": "321f3e25-26b4-4e43-999e-2e4508f22c0b",
   "metadata": {},
   "source": [
    "# Q1.Create a vehicle class with an init method having instance variables as name_of_vehicle, max_speed and average_of_vehicle."
   ]
  },
  {
   "cell_type": "code",
   "execution_count": 2,
   "id": "b175cc04-68ff-4b04-9e2b-11b32680eb84",
   "metadata": {},
   "outputs": [],
   "source": [
    "class vehicle:\n",
    "    def __init__(self,name_of_vehicle,max_speed,average_of_vehicle):\n",
    "        self.name_of_vehicle=name_of_vehicle\n",
    "        self.max_speed=max_speed\n",
    "        self.average_of_vehicle=average_of_vehicle\n",
    "        "
   ]
  },
  {
   "cell_type": "markdown",
   "id": "bd834d61-688b-4617-86fb-b4128e1fdb29",
   "metadata": {},
   "source": [
    "# Q2.Create a child class car from the vehicle class created in Que 1, which will inherit the vehicle class.\n",
    "# Create a method named seating_capacity which takes capacity as an argument and returns the name of the vehicle and its \n",
    "# seating capacity."
   ]
  },
  {
   "cell_type": "code",
   "execution_count": 10,
   "id": "cceba041-29ee-4b45-a68c-76dac04bd10f",
   "metadata": {},
   "outputs": [],
   "source": [
    "class vehicle:\n",
    "    def __init__(self,name_of_vehicle,max_speed,average_of_vehicle):\n",
    "        self.name_of_vehicle=name_of_vehicle\n",
    "        self.max_speed=max_speed\n",
    "        self.average_of_vehicle=average_of_vehicle\n",
    "class car(vehicle):\n",
    "    def seating_capacity(self,capacity):\n",
    "        return self.name_of_vehicle,capacity"
   ]
  },
  {
   "cell_type": "code",
   "execution_count": 12,
   "id": "da0c646c-3557-4d38-b782-46763b2203b5",
   "metadata": {},
   "outputs": [
    {
     "data": {
      "text/plain": [
       "('BMW', 5)"
      ]
     },
     "execution_count": 12,
     "metadata": {},
     "output_type": "execute_result"
    }
   ],
   "source": [
    "car_object=car(\"BMW\",240,10)\n",
    "car_object.seating_capacity(5)\n",
    "\n"
   ]
  },
  {
   "cell_type": "markdown",
   "id": "602ba6f4-b473-454a-befe-bcf3b7c5d0cf",
   "metadata": {},
   "source": [
    "# Q3. What is multiple inheritance? Write a python code to demonstrate multiple inheritance."
   ]
  },
  {
   "cell_type": "code",
   "execution_count": null,
   "id": "c2c3eaba-0f87-4929-9804-eacdf44647db",
   "metadata": {},
   "outputs": [],
   "source": [
    "When a class is derived from more than one base class it is called multiple Inheritance. \n",
    "The derived class inherits all the features of the base case.\n",
    "\n",
    "A class can be derived from more than one superclass in Python. This is called multiple inheritance.\n",
    "\n",
    "For example, A class Bat is derived from superclasses Mammal and WingedAnimal. \n",
    "It makes sense because bat is a mammal as well as a winged animal.\n",
    "\n"
   ]
  },
  {
   "cell_type": "code",
   "execution_count": 1,
   "id": "030f8038-f5c9-49e0-b046-e228b922a733",
   "metadata": {},
   "outputs": [
    {
     "name": "stdout",
     "output_type": "stream",
     "text": [
      "This is my class1\n",
      "This is my class2\n",
      "This is my class3\n"
     ]
    }
   ],
   "source": [
    "# Multiple Inheritance\n",
    "class class1:\n",
    "    def test_class1(self):\n",
    "        print(\"This is my class1\")\n",
    "class class2:\n",
    "    def test_class2(self):\n",
    "        print(\"This is my class2\")\n",
    "class class3(class1,class2):\n",
    "    def test_class3(self):\n",
    "        print(\"This is my class3\")\n",
    "class3_obj=class3()\n",
    "class3_obj.test_class1()\n",
    "class3_obj.test_class2()\n",
    "class3_obj.test_class3()"
   ]
  },
  {
   "cell_type": "markdown",
   "id": "caef4a7d-5c38-48c3-8580-d3e1cfcf94de",
   "metadata": {},
   "source": [
    "# Q4.What are getter and setter in python? Create a class and create a getter and a setter method in this class."
   ]
  },
  {
   "cell_type": "code",
   "execution_count": null,
   "id": "536083c8-c7cc-4aed-a9ad-0a11a650e624",
   "metadata": {},
   "outputs": [],
   "source": [
    "Python programming provides us with a built-in @property decorator which makes usage of getter and setters much easier in Object-Oriented Programming.\n",
    "We use getters & setters to add validation logic around getting and setting a value.\n",
    "To avoid direct access of a class field i.e. private variables cannot be accessed directly or modified by external user."
   ]
  },
  {
   "cell_type": "code",
   "execution_count": 13,
   "id": "3fc6c89c-8b61-4ecb-8272-0632d458aec9",
   "metadata": {},
   "outputs": [],
   "source": [
    "class pwskills:\n",
    "    \n",
    "    def __init__(self, course_price , course_name):\n",
    "        self.__course_price = course_price\n",
    "        self.course_name = course_name\n",
    "        \n",
    "    @property\n",
    "    def course_price_access(self):\n",
    "        return self.__course_price\n",
    "    \n",
    "    @course_price_access.setter\n",
    "    def course_price_set(self , price):\n",
    "        if price <= 3500:\n",
    "            pass\n",
    "        else :\n",
    "            self.__course_price = price"
   ]
  },
  {
   "cell_type": "code",
   "execution_count": 17,
   "id": "128ba72a-ca97-40b5-b11c-4a5d9f61f6b9",
   "metadata": {},
   "outputs": [
    {
     "data": {
      "text/plain": [
       "3500"
      ]
     },
     "execution_count": 17,
     "metadata": {},
     "output_type": "execute_result"
    }
   ],
   "source": [
    "pw=pwskills(3500,\"Data Science\")\n",
    "pw.course_price_access\n"
   ]
  },
  {
   "cell_type": "code",
   "execution_count": 21,
   "id": "b0768b48-0b43-4b9e-b4a8-c097611bc656",
   "metadata": {},
   "outputs": [
    {
     "data": {
      "text/plain": [
       "4500"
      ]
     },
     "execution_count": 21,
     "metadata": {},
     "output_type": "execute_result"
    }
   ],
   "source": [
    "pw.course_price_set=4500\n",
    "pw.course_price_set\n",
    "\n",
    "\n"
   ]
  },
  {
   "cell_type": "code",
   "execution_count": 22,
   "id": "db95d307-d8c1-4bb2-bf93-9ede3cb6669b",
   "metadata": {},
   "outputs": [
    {
     "data": {
      "text/plain": [
       "4500"
      ]
     },
     "execution_count": 22,
     "metadata": {},
     "output_type": "execute_result"
    }
   ],
   "source": [
    "pw.course_price_access"
   ]
  },
  {
   "cell_type": "markdown",
   "id": "8ecf3aa7-c4ff-43d4-9284-9e70c42389cb",
   "metadata": {},
   "source": [
    "# Q5.What is method overriding in python? Write a python code to demonstrate method overriding."
   ]
  },
  {
   "cell_type": "code",
   "execution_count": null,
   "id": "37f4b1fd-4d73-4475-b5fa-bc71707a2124",
   "metadata": {},
   "outputs": [],
   "source": [
    "Method Overriding in Python is an OOPs concept closely related to inheritance. \n",
    "When a child class method overrides(or, provides it's own implementation) the parent class method of the same name, parameters and return type, it is known as method overriding.\n",
    "\n",
    "In this case, the child class's method is called the overriding method and the parent class's method is called the overriden method."
   ]
  },
  {
   "cell_type": "code",
   "execution_count": 1,
   "id": "941db742-22e6-40b1-917b-a2ce1befaf0b",
   "metadata": {},
   "outputs": [
    {
     "data": {
      "text/plain": [
       "('BMW', 5)"
      ]
     },
     "execution_count": 1,
     "metadata": {},
     "output_type": "execute_result"
    }
   ],
   "source": [
    "class vehicle:\n",
    "    def __init__(self,name_of_vehicle,max_speed,average_of_vehicle):\n",
    "        self.name_of_vehicle=name_of_vehicle\n",
    "        self.max_speed=max_speed\n",
    "        self.average_of_vehicle=average_of_vehicle\n",
    "class car(vehicle):\n",
    "    def seating_capacity(self,capacity):\n",
    "        return self.name_of_vehicle,capacity\n",
    "car_object=car(\"BMW\",240,10)\n",
    "car_object.seating_capacity(5)"
   ]
  },
  {
   "cell_type": "code",
   "execution_count": null,
   "id": "88dc9fbb-a575-4ae3-8424-f5293f5531dd",
   "metadata": {},
   "outputs": [],
   "source": []
  }
 ],
 "metadata": {
  "kernelspec": {
   "display_name": "Python 3 (ipykernel)",
   "language": "python",
   "name": "python3"
  },
  "language_info": {
   "codemirror_mode": {
    "name": "ipython",
    "version": 3
   },
   "file_extension": ".py",
   "mimetype": "text/x-python",
   "name": "python",
   "nbconvert_exporter": "python",
   "pygments_lexer": "ipython3",
   "version": "3.10.8"
  }
 },
 "nbformat": 4,
 "nbformat_minor": 5
}
